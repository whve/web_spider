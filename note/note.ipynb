{
 "cells": [
  {
   "cell_type": "code",
   "execution_count": 23,
   "metadata": {},
   "outputs": [
    {
     "name": "stdout",
     "output_type": "stream",
     "text": [
      "lk9wdklq6dz.jpg is loaded\n"
     ]
    }
   ],
   "source": [
    "# BUG 函数无法保存图\n",
    "import requests\n",
    "def load_img(imgurl, file):\n",
    "    '''下载单张图片到制定的文件夹下'''\n",
    "    name = imgurl.split('/')[-1]\n",
    "    file = \"{}\\\\{}\".format(file,name)\n",
    "    item = requests.get(imgurl).content\n",
    "    with open(file,'wb') as f:\n",
    "        f.write(item)\n",
    "    print('{} is loaded'.format(name))\n",
    "\n",
    "load_img('http://10pm.com/files/lk9wdklq6dz.jpg','E:\\\\MRbase.Papers\\\\已完成的论文\\\\爬虫\\\\neutral')"
   ]
  },
  {
   "cell_type": "code",
   "execution_count": 14,
   "metadata": {},
   "outputs": [],
   "source": [
    "import requests\n",
    "\n",
    "imgurl = 'https://gallery.1x.com/images/user/26573acf17ad7f10eeab2b87a57fc8e8-hd2.jpg'\n",
    "item = requests.get(imgurl).content\n",
    "with open('E:\\\\MRbase.Papers\\\\已完成的论文\\\\爬虫\\\\neutral\\\\123.jpg','wb') as f:\n",
    "    f.write(item)\n",
    "    \n",
    "# def\n",
    "# 循环\n"
   ]
  },
  {
   "cell_type": "code",
   "execution_count": 16,
   "metadata": {},
   "outputs": [
    {
     "name": "stdout",
     "output_type": "stream",
     "text": [
      "lk9wdklq6dz.jpg is loaded\n"
     ]
    }
   ],
   "source": []
  },
  {
   "cell_type": "code",
   "execution_count": 21,
   "metadata": {},
   "outputs": [
    {
     "data": {
      "text/plain": [
       "'E:\\\\MRbase.Papers\\\\已完成的论文\\\\爬虫\\\\neutral'"
      ]
     },
     "execution_count": 21,
     "metadata": {},
     "output_type": "execute_result"
    }
   ],
   "source": [
    "# CMD\n",
    "# e: # open E:\n",
    "# cd whve # in file\n"
   ]
  }
 ],
 "metadata": {
  "kernelspec": {
   "display_name": "Python 3",
   "language": "python",
   "name": "python3"
  },
  "language_info": {
   "codemirror_mode": {
    "name": "ipython",
    "version": 3
   },
   "file_extension": ".py",
   "mimetype": "text/x-python",
   "name": "python",
   "nbconvert_exporter": "python",
   "pygments_lexer": "ipython3",
   "version": "3.7.1"
  }
 },
 "nbformat": 4,
 "nbformat_minor": 2
}
